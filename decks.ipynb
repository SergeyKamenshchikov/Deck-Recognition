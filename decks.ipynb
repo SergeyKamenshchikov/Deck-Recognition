{
  "nbformat": 4,
  "nbformat_minor": 0,
  "metadata": {
    "colab": {
      "provenance": [],
      "collapsed_sections": [
        "nbK4SlBQTPPA",
        "_3g_F1YHTqL0",
        "ZTJAnw4M3QA1"
      ],
      "machine_shape": "hm",
      "gpuType": "T4"
    },
    "kernelspec": {
      "name": "python3",
      "display_name": "Python 3"
    },
    "language_info": {
      "name": "python"
    },
    "accelerator": "GPU"
  },
  "cells": [
    {
      "cell_type": "markdown",
      "source": [
        "##### Install libraries:"
      ],
      "metadata": {
        "id": "nbK4SlBQTPPA"
      }
    },
    {
      "cell_type": "code",
      "source": [
        "!pip3 install pdfplumber\n",
        "!pip3 install openai==1.55.3 -q\n",
        "\n",
        "!pip3 install pdf2image\n",
        "!apt-get install poppler-utils\n",
        "!pip3 install easyocr"
      ],
      "metadata": {
        "id": "T8zCn8GnTPyE",
        "colab": {
          "base_uri": "https://localhost:8080/"
        },
        "outputId": "bd266881-b0c9-4bb6-a04f-060f519e0dde"
      },
      "execution_count": 3,
      "outputs": [
        {
          "output_type": "stream",
          "name": "stdout",
          "text": [
            "Requirement already satisfied: pdfplumber in /usr/local/lib/python3.12/dist-packages (0.11.7)\n",
            "Requirement already satisfied: pdfminer.six==20250506 in /usr/local/lib/python3.12/dist-packages (from pdfplumber) (20250506)\n",
            "Requirement already satisfied: Pillow>=9.1 in /usr/local/lib/python3.12/dist-packages (from pdfplumber) (11.3.0)\n",
            "Requirement already satisfied: pypdfium2>=4.18.0 in /usr/local/lib/python3.12/dist-packages (from pdfplumber) (4.30.0)\n",
            "Requirement already satisfied: charset-normalizer>=2.0.0 in /usr/local/lib/python3.12/dist-packages (from pdfminer.six==20250506->pdfplumber) (3.4.3)\n",
            "Requirement already satisfied: cryptography>=36.0.0 in /usr/local/lib/python3.12/dist-packages (from pdfminer.six==20250506->pdfplumber) (43.0.3)\n",
            "Requirement already satisfied: cffi>=1.12 in /usr/local/lib/python3.12/dist-packages (from cryptography>=36.0.0->pdfminer.six==20250506->pdfplumber) (1.17.1)\n",
            "Requirement already satisfied: pycparser in /usr/local/lib/python3.12/dist-packages (from cffi>=1.12->cryptography>=36.0.0->pdfminer.six==20250506->pdfplumber) (2.22)\n",
            "Requirement already satisfied: pdf2image in /usr/local/lib/python3.12/dist-packages (1.17.0)\n",
            "Requirement already satisfied: pillow in /usr/local/lib/python3.12/dist-packages (from pdf2image) (11.3.0)\n",
            "Reading package lists... Done\n",
            "Building dependency tree... Done\n",
            "Reading state information... Done\n",
            "poppler-utils is already the newest version (22.02.0-2ubuntu0.10).\n",
            "0 upgraded, 0 newly installed, 0 to remove and 35 not upgraded.\n",
            "Requirement already satisfied: easyocr in /usr/local/lib/python3.12/dist-packages (1.7.2)\n",
            "Requirement already satisfied: torch in /usr/local/lib/python3.12/dist-packages (from easyocr) (2.8.0+cu126)\n",
            "Requirement already satisfied: torchvision>=0.5 in /usr/local/lib/python3.12/dist-packages (from easyocr) (0.23.0+cu126)\n",
            "Requirement already satisfied: opencv-python-headless in /usr/local/lib/python3.12/dist-packages (from easyocr) (4.12.0.88)\n",
            "Requirement already satisfied: scipy in /usr/local/lib/python3.12/dist-packages (from easyocr) (1.16.1)\n",
            "Requirement already satisfied: numpy in /usr/local/lib/python3.12/dist-packages (from easyocr) (2.0.2)\n",
            "Requirement already satisfied: Pillow in /usr/local/lib/python3.12/dist-packages (from easyocr) (11.3.0)\n",
            "Requirement already satisfied: scikit-image in /usr/local/lib/python3.12/dist-packages (from easyocr) (0.25.2)\n",
            "Requirement already satisfied: python-bidi in /usr/local/lib/python3.12/dist-packages (from easyocr) (0.6.6)\n",
            "Requirement already satisfied: PyYAML in /usr/local/lib/python3.12/dist-packages (from easyocr) (6.0.2)\n",
            "Requirement already satisfied: Shapely in /usr/local/lib/python3.12/dist-packages (from easyocr) (2.1.1)\n",
            "Requirement already satisfied: pyclipper in /usr/local/lib/python3.12/dist-packages (from easyocr) (1.3.0.post6)\n",
            "Requirement already satisfied: ninja in /usr/local/lib/python3.12/dist-packages (from easyocr) (1.13.0)\n",
            "Requirement already satisfied: filelock in /usr/local/lib/python3.12/dist-packages (from torch->easyocr) (3.19.1)\n",
            "Requirement already satisfied: typing-extensions>=4.10.0 in /usr/local/lib/python3.12/dist-packages (from torch->easyocr) (4.14.1)\n",
            "Requirement already satisfied: setuptools in /usr/local/lib/python3.12/dist-packages (from torch->easyocr) (75.2.0)\n",
            "Requirement already satisfied: sympy>=1.13.3 in /usr/local/lib/python3.12/dist-packages (from torch->easyocr) (1.13.3)\n",
            "Requirement already satisfied: networkx in /usr/local/lib/python3.12/dist-packages (from torch->easyocr) (3.5)\n",
            "Requirement already satisfied: jinja2 in /usr/local/lib/python3.12/dist-packages (from torch->easyocr) (3.1.6)\n",
            "Requirement already satisfied: fsspec in /usr/local/lib/python3.12/dist-packages (from torch->easyocr) (2025.3.0)\n",
            "Requirement already satisfied: nvidia-cuda-nvrtc-cu12==12.6.77 in /usr/local/lib/python3.12/dist-packages (from torch->easyocr) (12.6.77)\n",
            "Requirement already satisfied: nvidia-cuda-runtime-cu12==12.6.77 in /usr/local/lib/python3.12/dist-packages (from torch->easyocr) (12.6.77)\n",
            "Requirement already satisfied: nvidia-cuda-cupti-cu12==12.6.80 in /usr/local/lib/python3.12/dist-packages (from torch->easyocr) (12.6.80)\n",
            "Requirement already satisfied: nvidia-cudnn-cu12==9.10.2.21 in /usr/local/lib/python3.12/dist-packages (from torch->easyocr) (9.10.2.21)\n",
            "Requirement already satisfied: nvidia-cublas-cu12==12.6.4.1 in /usr/local/lib/python3.12/dist-packages (from torch->easyocr) (12.6.4.1)\n",
            "Requirement already satisfied: nvidia-cufft-cu12==11.3.0.4 in /usr/local/lib/python3.12/dist-packages (from torch->easyocr) (11.3.0.4)\n",
            "Requirement already satisfied: nvidia-curand-cu12==10.3.7.77 in /usr/local/lib/python3.12/dist-packages (from torch->easyocr) (10.3.7.77)\n",
            "Requirement already satisfied: nvidia-cusolver-cu12==11.7.1.2 in /usr/local/lib/python3.12/dist-packages (from torch->easyocr) (11.7.1.2)\n",
            "Requirement already satisfied: nvidia-cusparse-cu12==12.5.4.2 in /usr/local/lib/python3.12/dist-packages (from torch->easyocr) (12.5.4.2)\n",
            "Requirement already satisfied: nvidia-cusparselt-cu12==0.7.1 in /usr/local/lib/python3.12/dist-packages (from torch->easyocr) (0.7.1)\n",
            "Requirement already satisfied: nvidia-nccl-cu12==2.27.3 in /usr/local/lib/python3.12/dist-packages (from torch->easyocr) (2.27.3)\n",
            "Requirement already satisfied: nvidia-nvtx-cu12==12.6.77 in /usr/local/lib/python3.12/dist-packages (from torch->easyocr) (12.6.77)\n",
            "Requirement already satisfied: nvidia-nvjitlink-cu12==12.6.85 in /usr/local/lib/python3.12/dist-packages (from torch->easyocr) (12.6.85)\n",
            "Requirement already satisfied: nvidia-cufile-cu12==1.11.1.6 in /usr/local/lib/python3.12/dist-packages (from torch->easyocr) (1.11.1.6)\n",
            "Requirement already satisfied: triton==3.4.0 in /usr/local/lib/python3.12/dist-packages (from torch->easyocr) (3.4.0)\n",
            "Requirement already satisfied: imageio!=2.35.0,>=2.33 in /usr/local/lib/python3.12/dist-packages (from scikit-image->easyocr) (2.37.0)\n",
            "Requirement already satisfied: tifffile>=2022.8.12 in /usr/local/lib/python3.12/dist-packages (from scikit-image->easyocr) (2025.6.11)\n",
            "Requirement already satisfied: packaging>=21 in /usr/local/lib/python3.12/dist-packages (from scikit-image->easyocr) (25.0)\n",
            "Requirement already satisfied: lazy-loader>=0.4 in /usr/local/lib/python3.12/dist-packages (from scikit-image->easyocr) (0.4)\n",
            "Requirement already satisfied: mpmath<1.4,>=1.1.0 in /usr/local/lib/python3.12/dist-packages (from sympy>=1.13.3->torch->easyocr) (1.3.0)\n",
            "Requirement already satisfied: MarkupSafe>=2.0 in /usr/local/lib/python3.12/dist-packages (from jinja2->torch->easyocr) (3.0.2)\n"
          ]
        }
      ]
    },
    {
      "cell_type": "markdown",
      "source": [
        "##### Import libraries:"
      ],
      "metadata": {
        "id": "_3g_F1YHTqL0"
      }
    },
    {
      "cell_type": "code",
      "source": [
        "from openai import OpenAI\n",
        "from PIL import Image\n",
        "\n",
        "import os, time, json\n",
        "import numpy as np\n",
        "import pandas as pd\n",
        "\n",
        "from tqdm import tqdm\n",
        "\n",
        "from google.colab import drive\n",
        "from google.colab import output\n",
        "from google.colab import files\n",
        "\n",
        "from joblib import Parallel, delayed\n",
        "from concurrent.futures import ThreadPoolExecutor, as_completed\n",
        "from IPython.display import display\n",
        "\n",
        "import nltk, re\n",
        "from nltk.tokenize import sent_tokenize\n",
        "\n",
        "nltk.download('punkt')\n",
        "nltk.download('punkt_tab')\n",
        "\n",
        "from tqdm import tqdm\n",
        "\n",
        "from pdf2image import convert_from_path\n",
        "import easyocr, pdfplumber\n",
        "import warnings, logging"
      ],
      "metadata": {
        "id": "aIwT2RMpTtb4",
        "colab": {
          "base_uri": "https://localhost:8080/"
        },
        "outputId": "cb170de1-8bae-46ad-a9b1-4fb51a2b81ce"
      },
      "execution_count": 4,
      "outputs": [
        {
          "output_type": "stream",
          "name": "stderr",
          "text": [
            "[nltk_data] Downloading package punkt to /root/nltk_data...\n",
            "[nltk_data]   Unzipping tokenizers/punkt.zip.\n",
            "[nltk_data] Downloading package punkt_tab to /root/nltk_data...\n",
            "[nltk_data]   Unzipping tokenizers/punkt_tab.zip.\n"
          ]
        }
      ]
    },
    {
      "cell_type": "markdown",
      "source": [
        "##### Ignore warnings:"
      ],
      "metadata": {
        "id": "ZTJAnw4M3QA1"
      }
    },
    {
      "cell_type": "code",
      "source": [
        "warnings.filterwarnings(\"ignore\")\n",
        "logging.getLogger(\"pdfminer\").setLevel(logging.ERROR)\n",
        "Image.MAX_IMAGE_PIXELS = None"
      ],
      "metadata": {
        "id": "hGVmOBRn3SQJ"
      },
      "execution_count": 5,
      "outputs": []
    },
    {
      "cell_type": "markdown",
      "source": [
        "##### Keys:"
      ],
      "metadata": {
        "id": "cd6Oc7_a1sJm"
      }
    },
    {
      "cell_type": "code",
      "source": [
        "os.environ[\"OPENAI_API_KEY\"] = \"\""
      ],
      "metadata": {
        "id": "fi5x9x0Z1uE8"
      },
      "execution_count": 7,
      "outputs": []
    },
    {
      "cell_type": "markdown",
      "source": [
        "##### UDFs:"
      ],
      "metadata": {
        "id": "kW4Ro6jqV5F9"
      }
    },
    {
      "cell_type": "code",
      "source": [
        "def extract_field(text, prompt, counter=0, model=\"o3\", system_prompt = None):\n",
        "\n",
        "    client = OpenAI()\n",
        "\n",
        "    system_prompt = \"Ты эксперт по технологическим стартапам и смотришь презентацию стартапа для венчурного фонда\"\n",
        "\n",
        "    messages = [{\"role\": \"system\", \"content\": system_prompt}, {\"role\": \"user\", \"content\": f'task: {prompt} : \"text: {text}\" '}]\n",
        "    response = client.chat.completions.create(model=model, messages=messages).choices[0].message.content\n",
        "\n",
        "    return response\n",
        "\n",
        "def return_fields(doc_txt):\n",
        "\n",
        "    startup_fields = []\n",
        "\n",
        "    z = extract_field(doc_txt, 'извлеки отсюда 1. Описание компании - если нет, выведи только одно слово НЕТ;\\\n",
        "     2. Финансовые показатели компании - если нет, выведи только одно слово НЕТ;\\\n",
        "     3. Информацию о команде компании (опыт в разработке и бизнесе) - если нет, выведи только одно слово НЕТ;\\\n",
        "     4. Привлеченные государственные гранты и финансирование - если нет, выведи только одно слово НЕТ;\\\n",
        "     5. Описание продукта и его стадии готовности (например есть прототип, есть продажи) - если нет, выведи только одно слово НЕТ;\\\n",
        "     6. Описание используемых технологий - если нет, выведи только одно слово НЕТ;\\\n",
        "     7. Объем рынка продукта - если нет, выведи только одно слово НЕТ;\\\n",
        "     8. Технологические тренды рынка - если нет, выведи только одно слово НЕТ;\\\n",
        "     9. Риски рынка, для которого предназначен продукт - если нет, выведи только одно слово НЕТ;\\\n",
        "     10. Технологические риски продукта - если нет, выведи только одно слово НЕТ;\\\n",
        "     11. Аналоги продукта в мире - если нет, выведи только одно слово НЕТ;\\\n",
        "     12. Конкуренты продукта - если нет, выведи только одно слово НЕТ;\\\n",
        "     13. Сделки в мире по таким типам продукта - если нет, выведи только одно слово НЕТ;\\\n",
        "     14. Сделки в России по таким типам продукта - если нет, выведи только одно слово НЕТ;\\\n",
        "     15. Привлеченные инвестиции - если нет, выведи только одно слово НЕТ;\\\n",
        "     инвестиционное предложение - если нет, выведи только одно слово НЕТ; между ними разделение символом #')\n",
        "\n",
        "    return [re.sub(r\"^\\d+\\.\\s*\", \"\", re.sub(r\"^\\d+\\)\\s*\", \"\", i.strip().replace('\\n', ''))) for i in z.split('#')]\n",
        "\n",
        "def parallel_extraction(texts, max_workers: int = 10):\n",
        "    with ThreadPoolExecutor(max_workers=max_workers) as executor:\n",
        "        results = list(tqdm(executor.map(lambda x: return_fields(x), texts), total=len(texts)))\n",
        "    return results"
      ],
      "metadata": {
        "id": "CgteFz98V7Ie"
      },
      "execution_count": 13,
      "outputs": []
    },
    {
      "cell_type": "markdown",
      "source": [
        "##### Extract files:"
      ],
      "metadata": {
        "id": "h5nN7Fo-8vlw"
      }
    },
    {
      "cell_type": "code",
      "source": [
        "drive.mount('/content/drive')\n",
        "# !cp -r '/content/drive/My Drive/Центр Аналитики/IT системы/ML модели/Саммаризатор/Питчи' '/content/'\n",
        "!cp -r '/content/drive/My Drive/Pitchdecks' '/content/'"
      ],
      "metadata": {
        "colab": {
          "base_uri": "https://localhost:8080/"
        },
        "id": "5AUw79jJ8ulE",
        "outputId": "56adf0b5-2d38-4d36-e933-b047f11221d3"
      },
      "execution_count": 11,
      "outputs": [
        {
          "output_type": "stream",
          "name": "stdout",
          "text": [
            "Mounted at /content/drive\n"
          ]
        }
      ]
    },
    {
      "cell_type": "markdown",
      "source": [
        "##### Extract fields:"
      ],
      "metadata": {
        "id": "_HQ28YJc03Wb"
      }
    },
    {
      "cell_type": "code",
      "source": [
        "%%time\n",
        "\n",
        "folder_path = '/content/Pitchdecks'\n",
        "pdf_files = sorted([f for f in os.listdir(folder_path) if f.endswith('.pdf')])\n",
        "\n",
        "print('\\nPDF text recognition...\\n')\n",
        "\n",
        "df_fields, file_texts = [], []\n",
        "adresses = []\n",
        "\n",
        "for pdf_file in tqdm(pdf_files):\n",
        "\n",
        "    pdf_path = os.path.join(folder_path, pdf_file)\n",
        "\n",
        "    ### Image recognition ###\n",
        "    pdf_images = convert_from_path(pdf_path, thread_count=10)\n",
        "\n",
        "    for idx, image in enumerate(pdf_images):\n",
        "      image.save(f'pdf_page_{idx + 1}.png', 'PNG')\n",
        "\n",
        "    image_dir = '/content/'\n",
        "    reader = easyocr.Reader(['ru', 'en'], gpu = True)\n",
        "\n",
        "    text_results = []\n",
        "\n",
        "    for filename in sorted(os.listdir(image_dir)):\n",
        "\n",
        "        if filename.lower().endswith('.png'):\n",
        "\n",
        "          try:\n",
        "            img_path = os.path.join(image_dir, filename)\n",
        "            result = reader.readtext(img_path, detail=0, paragraph=True)\n",
        "            text_results.extend(result)\n",
        "          except:\n",
        "            print(\"Can't recognize the image\")\n",
        "\n",
        "    img_text = '\\n'.join(text_results)\n",
        "    !rm /content/*.png\n",
        "    ###/Image recognition ###\n",
        "\n",
        "    adresses.append(pdf_path.replace('/content/Питчи/', ''))\n",
        "\n",
        "    # Extract text with PDF reader\n",
        "    with pdfplumber.open(pdf_path) as pdf:\n",
        "      text = ''\n",
        "      for page in pdf.pages:\n",
        "          text += page.extract_text() + '\\n'\n",
        "\n",
        "    doc_txt = text.replace('02.12.2024, 22:35 Документ от auto-coder.net', '')\n",
        "    #/Extract text with PDF reader\n",
        "\n",
        "    file_texts.append(img_text + '|Краткое содержание текста: ' + doc_txt)\n",
        "\n",
        "print('\\nFields extraction with O3...\\n')\n",
        "\n",
        "df_fields = list(parallel_extraction(file_texts))\n",
        "df_fields = [[i for i in sublist if i != ''] for sublist in df_fields]\n",
        "output.eval_js('new Audio(\"https://upload.wikimedia.org/wikipedia/commons/0/05/Beep-09.ogg\").play()')"
      ],
      "metadata": {
        "colab": {
          "base_uri": "https://localhost:8080/",
          "height": 225
        },
        "id": "4ZmmHFBTCRsm",
        "outputId": "9ebd846c-9574-4223-afa8-eb60c02588b5"
      },
      "execution_count": 14,
      "outputs": [
        {
          "output_type": "stream",
          "name": "stdout",
          "text": [
            "\n",
            "PDF text recognition...\n",
            "\n"
          ]
        },
        {
          "output_type": "stream",
          "name": "stderr",
          "text": [
            "\r  0%|          | 0/1 [00:00<?, ?it/s]WARNING:easyocr.easyocr:Downloading detection model, please wait. This may take several minutes depending upon your network connection.\n"
          ]
        },
        {
          "output_type": "stream",
          "name": "stdout",
          "text": [
            "Progress: |██████████████████████████████████████████████████| 100.0% Complete"
          ]
        },
        {
          "output_type": "stream",
          "name": "stderr",
          "text": [
            "WARNING:easyocr.easyocr:Downloading recognition model, please wait. This may take several minutes depending upon your network connection.\n"
          ]
        },
        {
          "output_type": "stream",
          "name": "stdout",
          "text": [
            "Progress: |██████████████████████████████████████████████████| 100.1% Complete"
          ]
        },
        {
          "output_type": "stream",
          "name": "stderr",
          "text": [
            "100%|██████████| 1/1 [00:15<00:00, 15.95s/it]\n"
          ]
        },
        {
          "output_type": "stream",
          "name": "stdout",
          "text": [
            "\n",
            "Fields extraction with O3...\n",
            "\n"
          ]
        },
        {
          "output_type": "stream",
          "name": "stderr",
          "text": [
            "100%|██████████| 1/1 [00:13<00:00, 13.12s/it]\n"
          ]
        },
        {
          "output_type": "stream",
          "name": "stdout",
          "text": [
            "CPU times: user 12.2 s, sys: 1.27 s, total: 13.5 s\n",
            "Wall time: 30.5 s\n"
          ]
        }
      ]
    },
    {
      "cell_type": "markdown",
      "source": [
        "##### Show dataframe:"
      ],
      "metadata": {
        "id": "R6Jelw-BMQQQ"
      }
    },
    {
      "cell_type": "code",
      "source": [
        "df = pd.DataFrame(df_fields, columns=['О компании', 'Показатели компании', 'Команда', 'Привлеченные меры поддержки', 'Продукт', 'Технология', 'Рынок', 'Технологические тренды рынка',\\\n",
        "                                      'Рыночные риски', 'Технологические риски', 'Аналоги в мире', 'Конкуренты', 'Сделки в Мире', 'Сделки в России', 'Привлеченные инвестиции', 'Инвестиционное предложение'])\n",
        "\n",
        "\n",
        "for col in df.columns:\n",
        "    if col != 'Файл':\n",
        "        df[col] = df[col].str.capitalize()\n",
        "\n",
        "df['Файл'] = adresses\n",
        "print(df.to_markdown(index=False, tablefmt=\"grid\"))"
      ],
      "metadata": {
        "id": "xLROOmaCKleQ",
        "colab": {
          "base_uri": "https://localhost:8080/"
        },
        "outputId": "cf4ffbae-83e0-4539-9161-ba6e5d39b446"
      },
      "execution_count": 15,
      "outputs": [
        {
          "output_type": "stream",
          "name": "stdout",
          "text": [
            "+-------------------------------------------------------------------------------------------------------------------------------------------------------------+-----------------------+-----------+-------------------------------+-------------------------------------------------------------------------------------------------------------------------------------------------------------------------------------------------------------------------------+----------------------------------------------------------------------------------------------------------------------------------------------------------------------------------------------------------------+---------+--------------------------------+------------------+-------------------------+------------------+--------------+-----------------+-------------------+---------------------------+------------------------------+------------------------------+\n",
            "| О компании                                                                                                                                                  | Показатели компании   | Команда   | Привлеченные меры поддержки   | Продукт                                                                                                                                                                                                                       | Технология                                                                                                                                                                                                     | Рынок   | Технологические тренды рынка   | Рыночные риски   | Технологические риски   | Аналоги в мире   | Конкуренты   | Сделки в Мире   | Сделки в России   | Привлеченные инвестиции   | Инвестиционное предложение   | Файл                         |\n",
            "+=============================================================================================================================================================+=======================+===========+===============================+===============================================================================================================================================================================================================================+================================================================================================================================================================================================================+=========+================================+==================+=========================+==================+==============+=================+===================+===========================+==============================+==============================+\n",
            "| Лаборатория биоматериалов сколтеха разрабатывает биополимерные пленки с инкапсулированными лекарственными средствами для имплантируемых медицинских изделий | Нет                   | Нет       | Нет                           | Функциональные биополимерные пленки с инкапсулированными лекарствами для покрытия имплантов, стентов и перевязочных материалов; запатентованная технология, масштабируемое производство; стадия — лабораторный прототип/пилот | Полимеры, одобренные fda (pla, plga, plc), технология инкапсуляции лекарств, аддитивное производство, автоматизированное точное осаждение препаратов, возможность внешне-стимулируемого контроля высвобождения | Нет     | Нет                            | Нет              | Нет                     | Нет              | Нет          | Нет             | Нет               | Нет                       | Нет                          | /content/Pitchdecks/test.pdf |\n",
            "+-------------------------------------------------------------------------------------------------------------------------------------------------------------+-----------------------+-----------+-------------------------------+-------------------------------------------------------------------------------------------------------------------------------------------------------------------------------------------------------------------------------+----------------------------------------------------------------------------------------------------------------------------------------------------------------------------------------------------------------+---------+--------------------------------+------------------+-------------------------+------------------+--------------+-----------------+-------------------+---------------------------+------------------------------+------------------------------+\n"
          ]
        }
      ]
    },
    {
      "cell_type": "markdown",
      "source": [
        "##### Save to xlsx:"
      ],
      "metadata": {
        "id": "rNxvxgawWwwI"
      }
    },
    {
      "cell_type": "code",
      "source": [
        "df.to_excel('pitches.xlsx', index=False)\n",
        "files.download('pitches.xlsx')"
      ],
      "metadata": {
        "id": "p47EPiBtW0DK",
        "colab": {
          "base_uri": "https://localhost:8080/",
          "height": 17
        },
        "outputId": "cdf31a68-43e0-4a16-f238-40b6cc25457a"
      },
      "execution_count": null,
      "outputs": [
        {
          "output_type": "display_data",
          "data": {
            "text/plain": [
              "<IPython.core.display.Javascript object>"
            ],
            "application/javascript": [
              "\n",
              "    async function download(id, filename, size) {\n",
              "      if (!google.colab.kernel.accessAllowed) {\n",
              "        return;\n",
              "      }\n",
              "      const div = document.createElement('div');\n",
              "      const label = document.createElement('label');\n",
              "      label.textContent = `Downloading \"${filename}\": `;\n",
              "      div.appendChild(label);\n",
              "      const progress = document.createElement('progress');\n",
              "      progress.max = size;\n",
              "      div.appendChild(progress);\n",
              "      document.body.appendChild(div);\n",
              "\n",
              "      const buffers = [];\n",
              "      let downloaded = 0;\n",
              "\n",
              "      const channel = await google.colab.kernel.comms.open(id);\n",
              "      // Send a message to notify the kernel that we're ready.\n",
              "      channel.send({})\n",
              "\n",
              "      for await (const message of channel.messages) {\n",
              "        // Send a message to notify the kernel that we're ready.\n",
              "        channel.send({})\n",
              "        if (message.buffers) {\n",
              "          for (const buffer of message.buffers) {\n",
              "            buffers.push(buffer);\n",
              "            downloaded += buffer.byteLength;\n",
              "            progress.value = downloaded;\n",
              "          }\n",
              "        }\n",
              "      }\n",
              "      const blob = new Blob(buffers, {type: 'application/binary'});\n",
              "      const a = document.createElement('a');\n",
              "      a.href = window.URL.createObjectURL(blob);\n",
              "      a.download = filename;\n",
              "      div.appendChild(a);\n",
              "      a.click();\n",
              "      div.remove();\n",
              "    }\n",
              "  "
            ]
          },
          "metadata": {}
        },
        {
          "output_type": "display_data",
          "data": {
            "text/plain": [
              "<IPython.core.display.Javascript object>"
            ],
            "application/javascript": [
              "download(\"download_2c599ebe-4f95-4f86-9b36-4c08d7182970\", \"pitches.xlsx\", 6463)"
            ]
          },
          "metadata": {}
        }
      ]
    }
  ]
}